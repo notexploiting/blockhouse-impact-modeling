{
 "cells": [
  {
   "cell_type": "markdown",
   "id": "a26c49e9",
   "metadata": {},
   "source": [
    "# Exploratory Data Analysis"
   ]
  },
  {
   "cell_type": "markdown",
   "id": "83392ae5",
   "metadata": {},
   "source": [
    "## Overview\n",
    "We'll load the raw MBP-10 market depth data, perform some basic exploratory data analysis (EDA), and visualize the results."
   ]
  },
  {
   "cell_type": "markdown",
   "id": "c3ea033d",
   "metadata": {},
   "source": [
    "## Setup and Imports"
   ]
  },
  {
   "cell_type": "code",
   "execution_count": 9,
   "id": "0506a828",
   "metadata": {},
   "outputs": [],
   "source": [
    "import pandas as pd\n",
    "from pathlib import Path"
   ]
  },
  {
   "cell_type": "markdown",
   "id": "c641b3a3",
   "metadata": {},
   "source": [
    "## Load and Concatenate Data"
   ]
  },
  {
   "cell_type": "code",
   "execution_count": 14,
   "id": "a374156c",
   "metadata": {},
   "outputs": [
    {
     "name": "stdout",
     "output_type": "stream",
     "text": [
      "21 files found for SOUN\n",
      "21 files found for FROG\n",
      "21 files found for CRWV\n"
     ]
    }
   ],
   "source": [
    "tickers = [\"SOUN\", \"FROG\", \"CRWV\"]\n",
    "PROJECT_ROOT = Path.cwd().parent\n",
    "RAW_DIR = PROJECT_ROOT / \"data\" / \"raw\"\n",
    "\n",
    "df_list = []\n",
    "for ticker in tickers:\n",
    "    csv_files = list(RAW_DIR.glob(f\"{ticker}/*{ticker}_2025-*.csv\"))\n",
    "    print(len(csv_files), \"files found for\", ticker)\n",
    "    for file in csv_files:\n",
    "        try:\n",
    "            df_list.append(pd.read_csv(file))\n",
    "        except Exception as e:\n",
    "            print(f\"Error reading {file}: {e}\")\n",
    "\n",
    "df = pd.concat(df_list, ignore_index=True)"
   ]
  },
  {
   "cell_type": "markdown",
   "id": "ab884d39",
   "metadata": {},
   "source": [
    "## Cleaning and Feature Engineering"
   ]
  }
 ],
 "metadata": {
  "kernelspec": {
   "display_name": "Python 3",
   "language": "python",
   "name": "python3"
  },
  "language_info": {
   "codemirror_mode": {
    "name": "ipython",
    "version": 3
   },
   "file_extension": ".py",
   "mimetype": "text/x-python",
   "name": "python",
   "nbconvert_exporter": "python",
   "pygments_lexer": "ipython3",
   "version": "3.9.6"
  }
 },
 "nbformat": 4,
 "nbformat_minor": 5
}
