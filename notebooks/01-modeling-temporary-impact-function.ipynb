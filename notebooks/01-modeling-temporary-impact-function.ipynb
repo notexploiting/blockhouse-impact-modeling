{
 "cells": [
  {
   "cell_type": "markdown",
   "id": "a26c49e9",
   "metadata": {},
   "source": [
    "# Blockhouse Work Trial - Question 1"
   ]
  },
  {
   "cell_type": "markdown",
   "id": "83392ae5",
   "metadata": {},
   "source": [
    "## Overview\n",
    "This notebook builds a model for the temporary impact function $g_t(x)$, which measures the amount of slippage of executing a market order of size $x$, relative to the mid-price at the time of execution. The model is based on the given limit order book snapshots across 21 days for 3 stocks: FROG, SOUN, and CRWV.\n",
    "\n",
    "We'll use:\n",
    "- One snapshot per minute  \n",
    "- $N=390$ minutes in each trading day\n",
    "- Given $21$ files per ticker => $390*21\\approx8190$ snapshots per stock\n",
    "- Given $3$ tickers, => $3*8190\\approx24570$ snapshots in total"
   ]
  },
  {
   "cell_type": "markdown",
   "id": "c3ea033d",
   "metadata": {},
   "source": [
    "## Setup and Imports"
   ]
  },
  {
   "cell_type": "code",
   "execution_count": 2,
   "id": "0506a828",
   "metadata": {},
   "outputs": [],
   "source": [
    "import pandas as pd\n",
    "from pathlib import Path"
   ]
  },
  {
   "cell_type": "markdown",
   "id": "c641b3a3",
   "metadata": {},
   "source": [
    "## Load and Concatenate Data for each Ticker"
   ]
  },
  {
   "cell_type": "code",
   "execution_count": 3,
   "id": "a374156c",
   "metadata": {},
   "outputs": [
    {
     "name": "stdout",
     "output_type": "stream",
     "text": [
      "21 files found for FROG\n",
      "21 files found for SOUN\n",
      "21 files found for CRWV\n"
     ]
    }
   ],
   "source": [
    "PROJECT_ROOT = Path.cwd().parent\n",
    "RAW_DIR = PROJECT_ROOT / \"data\" / \"raw\"\n",
    "\n",
    "def load_all(ticker):\n",
    "    csv_files = list(RAW_DIR.glob(f\"{ticker}/*{ticker}_2025-*.csv\"))\n",
    "    print(len(csv_files), \"files found for\", ticker)\n",
    "    df_list = []\n",
    "    for file in csv_files:\n",
    "        try:\n",
    "            df_list.append(pd.read_csv(file))\n",
    "        except Exception as e:\n",
    "            print(f\"Error reading {file}: {e}\")\n",
    "    return pd.concat(df_list, ignore_index=True)\n",
    "\n",
    "frog_df = load_all(\"FROG\")\n",
    "soun_df = load_all(\"SOUN\")\n",
    "crwv_df = load_all(\"CRWV\")\n",
    "\n",
    "# df.to_csv(PROJECT_ROOT / \"data\" / \"processed\" / \"orderbook_combined.csv\", index=False)\n",
    "\n"
   ]
  },
  {
   "cell_type": "markdown",
   "id": "66b65ab7",
   "metadata": {},
   "source": [
    "## Preprocess to Extract One Snapshot for each Minute\n",
    "\n",
    "We'll round each timestamp down to the nearest minute and retain the last limit order book update in each minute."
   ]
  },
  {
   "cell_type": "code",
   "execution_count": 6,
   "id": "45e01873",
   "metadata": {},
   "outputs": [],
   "source": [
    "# Parse the timestamps in ISO8601 format\n",
    "frog_df[\"ts_event\"] = pd.to_datetime(frog_df[\"ts_event\"], format=\"ISO8601\", errors=\"coerce\")\n",
    "soun_df[\"ts_event\"] = pd.to_datetime(soun_df[\"ts_event\"], format=\"ISO8601\", errors=\"coerce\")\n",
    "crwv_df[\"ts_event\"] = pd.to_datetime(crwv_df[\"ts_event\"], format=\"ISO8601\", errors=\"coerce\")"
   ]
  },
  {
   "cell_type": "code",
   "execution_count": 7,
   "id": "20dc5249",
   "metadata": {},
   "outputs": [],
   "source": [
    "def extract_snapshots(df):\n",
    "    df[\"ts_event\"] = pd.to_datetime(df[\"ts_event\"])\n",
    "    df[\"minute\"] = df[\"ts_event\"].dt.floor(\"min\")\n",
    "    return df.groupby(\"minute\").last().reset_index()\n",
    "\n",
    "frog_min = extract_snapshots(frog_df)\n",
    "soun_min = extract_snapshots(soun_df)\n",
    "crwv_min = extract_snapshots(crwv_df)"
   ]
  },
  {
   "cell_type": "code",
   "execution_count": 24,
   "id": "fd69ae35",
   "metadata": {},
   "outputs": [
    {
     "name": "stdout",
     "output_type": "stream",
     "text": [
      "Number of unique snapshots in minute: 8162\n",
      "Number of unique snapshots in minute: 8190\n",
      "Number of unique snapshots in minute: 8189\n"
     ]
    }
   ],
   "source": [
    "for df in [frog_min, soun_min, crwv_min]:\n",
    "    print(f\"Number of unique snapshots in {df['minute'].name}: {df['minute'].nunique()}\")"
   ]
  },
  {
   "cell_type": "code",
   "execution_count": 23,
   "id": "eb100fbb",
   "metadata": {},
   "outputs": [
    {
     "data": {
      "text/html": [
       "<div>\n",
       "<style scoped>\n",
       "    .dataframe tbody tr th:only-of-type {\n",
       "        vertical-align: middle;\n",
       "    }\n",
       "\n",
       "    .dataframe tbody tr th {\n",
       "        vertical-align: top;\n",
       "    }\n",
       "\n",
       "    .dataframe thead th {\n",
       "        text-align: right;\n",
       "    }\n",
       "</style>\n",
       "<table border=\"1\" class=\"dataframe\">\n",
       "  <thead>\n",
       "    <tr style=\"text-align: right;\">\n",
       "      <th></th>\n",
       "      <th>minute</th>\n",
       "      <th>ask_px_00</th>\n",
       "      <th>ask_sz_00</th>\n",
       "      <th>bid_px_00</th>\n",
       "      <th>bid_sz_00</th>\n",
       "    </tr>\n",
       "  </thead>\n",
       "  <tbody>\n",
       "    <tr>\n",
       "      <th>0</th>\n",
       "      <td>2025-04-03 13:30:00+00:00</td>\n",
       "      <td>31.50</td>\n",
       "      <td>225</td>\n",
       "      <td>31.07</td>\n",
       "      <td>300</td>\n",
       "    </tr>\n",
       "    <tr>\n",
       "      <th>1</th>\n",
       "      <td>2025-04-03 13:31:00+00:00</td>\n",
       "      <td>31.87</td>\n",
       "      <td>220</td>\n",
       "      <td>31.41</td>\n",
       "      <td>500</td>\n",
       "    </tr>\n",
       "    <tr>\n",
       "      <th>2</th>\n",
       "      <td>2025-04-03 13:32:00+00:00</td>\n",
       "      <td>31.87</td>\n",
       "      <td>220</td>\n",
       "      <td>31.41</td>\n",
       "      <td>500</td>\n",
       "    </tr>\n",
       "    <tr>\n",
       "      <th>3</th>\n",
       "      <td>2025-04-03 13:33:00+00:00</td>\n",
       "      <td>31.87</td>\n",
       "      <td>223</td>\n",
       "      <td>31.41</td>\n",
       "      <td>500</td>\n",
       "    </tr>\n",
       "    <tr>\n",
       "      <th>4</th>\n",
       "      <td>2025-04-03 13:34:00+00:00</td>\n",
       "      <td>31.87</td>\n",
       "      <td>3</td>\n",
       "      <td>31.41</td>\n",
       "      <td>400</td>\n",
       "    </tr>\n",
       "  </tbody>\n",
       "</table>\n",
       "</div>"
      ],
      "text/plain": [
       "                     minute  ask_px_00  ask_sz_00  bid_px_00  bid_sz_00\n",
       "0 2025-04-03 13:30:00+00:00      31.50        225      31.07        300\n",
       "1 2025-04-03 13:31:00+00:00      31.87        220      31.41        500\n",
       "2 2025-04-03 13:32:00+00:00      31.87        220      31.41        500\n",
       "3 2025-04-03 13:33:00+00:00      31.87        223      31.41        500\n",
       "4 2025-04-03 13:34:00+00:00      31.87          3      31.41        400"
      ]
     },
     "execution_count": 23,
     "metadata": {},
     "output_type": "execute_result"
    }
   ],
   "source": [
    "frog_min.loc[:,[\"minute\", \"ask_px_00\", \"ask_sz_00\", \"bid_px_00\", \"bid_sz_00\"]].head()"
   ]
  },
  {
   "cell_type": "markdown",
   "id": "3eb8b4a5",
   "metadata": {},
   "source": [
    "### Define Slippage\n",
    "\n",
    "The slippage is:\n",
    "\n",
    "$$g_t(x) = \\text{Actual Price} - \\text{Expected Price} = \\frac{\\text{Cost}(x)}{x} - \\text{Mid}_t = \\frac{\\sum_{i=0}^k p_i \\cdot \\min(q_i, r_i)}{x} - \\frac{\\text{best bid} + \\text{best ask}}{2}$$\n",
    "\n",
    "Where:\n",
    "- $p_i$: ask price at level $i$\n",
    "- $q_i$: size at level $i$\n",
    "- $r_i$: remaining quantity to fill"
   ]
  },
  {
   "cell_type": "markdown",
   "id": "b08a46ba",
   "metadata": {},
   "source": [
    "### Empirically Estimate $g_t(x)$ Using All Snapshots\n",
    "We simulate amount of orders to be bought of size $x = 1$ to $x = S$ using the 10-level ask side of the real limit order book. "
   ]
  },
  {
   "cell_type": "code",
   "execution_count": 26,
   "id": "8702789f",
   "metadata": {},
   "outputs": [],
   "source": [
    "def compute_gtx(row, max_qty=500):\n",
    "    \"\"\"\n",
    "    Compute the temporary impact function g_t(x) for a given row of the limit order book snapshot.\n",
    "\n",
    "    Parameters:\n",
    "        row (pd.Series): A Series representing a single snapshot.\n",
    "        max_qty (int): The maximum order size to simulate. Defaults to 500.\n",
    "\n",
    "    Returns:\n",
    "        slippage (list): A list of slippage values for order sizes from 1 to max_qty.\n",
    "    \"\"\"\n",
    "    # Get all the ask prices and sizes\n",
    "    ask_px = []\n",
    "    ask_sz = []\n",
    "    for i in range(10):\n",
    "        ask_px.append(row[f\"ask_px_{i}\"])\n",
    "        ask_sz.append(row[f\"ask_sz_{i}\"])\n",
    "\n",
    "    # Get the best bid price\n",
    "    best_bid = row[\"bid_px_00\"]\n",
    "    \n",
    "    # Calculate the mid price\n",
    "    mid_price = (best_bid + ask_px[0]) / 2\n",
    "\n",
    "    # Simulate market orders of size x = 1 to x = max_qty\n",
    "    slippage = []\n",
    "    for order_size in range(1, max_qty + 1):\n",
    "        quantity_remaining = order_size\n",
    "        total_cost = 0\n",
    "\n",
    "        # Iterate through the ask (price) levels\n",
    "        for price, size in zip(ask_px, ask_sz):\n",
    "            # Determine how much we can take from this level\n",
    "            quantity_to_take = min(quantity_remaining, size)\n",
    "            total_cost += price * quantity_to_take\n",
    "            quantity_remaining -= quantity_to_take\n",
    "\n",
    "            # If we've filled the order, break\n",
    "            if quantity_remaining <= 0:\n",
    "                break\n",
    "\n",
    "        # If there isn't enough liquidity to fill the order, we assume, for simplicity, that we can fill the rest at the worst ask price (i.e. there are infinite traders willing to sell at the last ask price)\n",
    "        if quantity_remaining > 0:\n",
    "            total_cost += quantity_remaining * ask_px[-1]\n",
    "\n",
    "        # Calculate the slippage, as defined above, for this order size\n",
    "        average_price = total_cost / order_size\n",
    "        slippage.append(average_price - mid_price)\n",
    "\n",
    "    return slippage"
   ]
  }
 ],
 "metadata": {
  "kernelspec": {
   "display_name": "Python 3",
   "language": "python",
   "name": "python3"
  },
  "language_info": {
   "codemirror_mode": {
    "name": "ipython",
    "version": 3
   },
   "file_extension": ".py",
   "mimetype": "text/x-python",
   "name": "python",
   "nbconvert_exporter": "python",
   "pygments_lexer": "ipython3",
   "version": "3.9.6"
  }
 },
 "nbformat": 4,
 "nbformat_minor": 5
}
